{
  "nbformat": 4,
  "nbformat_minor": 0,
  "metadata": {
    "colab": {
      "name": "Classification_v1",
      "provenance": [],
      "collapsed_sections": []
    },
    "kernelspec": {
      "name": "python3",
      "display_name": "Python 3"
    }
  },
  "cells": [
    {
      "cell_type": "markdown",
      "metadata": {
        "id": "PdS0FhS8xSo0"
      },
      "source": [
        "# Blog post classification using Natural Language Processing\n"
      ]
    },
    {
      "cell_type": "code",
      "metadata": {
        "colab": {
          "base_uri": "https://localhost:8080/"
        },
        "id": "cwwfHsuqxPyE",
        "outputId": "b255e131-ab23-499e-ef7a-99c3931a75aa"
      },
      "source": [
        "from google.colab import drive\n",
        "drive.mount('/content/drive')"
      ],
      "execution_count": null,
      "outputs": [
        {
          "output_type": "stream",
          "text": [
            "Mounted at /content/drive\n"
          ],
          "name": "stdout"
        }
      ]
    },
    {
      "cell_type": "code",
      "metadata": {
        "id": "_B0KEwXWi-Bo"
      },
      "source": [
        "import pandas as pd\n",
        "import matplotlib.pyplot as plt\n",
        "import warnings\n",
        "warnings.filterwarnings('ignore')"
      ],
      "execution_count": null,
      "outputs": []
    },
    {
      "cell_type": "code",
      "metadata": {
        "id": "B28i3Qnvj_o8"
      },
      "source": [
        "meta_train_df = pd.read_json (r'/content/drive/Shareddrives/Text Analytics/Project/train.json')\n",
        "meta_test_df = pd.read_json (r'/content/drive/Shareddrives/Text Analytics/Project/test.json')"
      ],
      "execution_count": null,
      "outputs": []
    },
    {
      "cell_type": "code",
      "metadata": {
        "id": "0WxoGds6orp7"
      },
      "source": [
        "import os \n",
        "os.chdir('/content/drive/Shareddrives/Text Analytics/Project/')"
      ],
      "execution_count": null,
      "outputs": []
    },
    {
      "cell_type": "code",
      "metadata": {
        "colab": {
          "base_uri": "https://localhost:8080/"
        },
        "id": "JRHKZRTvXStk",
        "outputId": "9d306a2b-41cd-4c76-fab0-3e4ad05e597a"
      },
      "source": [
        "import nltk\n",
        "nltk.download('stopwords')\n",
        "nltk.download('punkt')\n",
        "from nltk.corpus import stopwords\n",
        "import string\n",
        "from nltk.tokenize import word_tokenize\n",
        "nltk.download('wordnet')\n",
        "from nltk import wordnet as wn\n",
        "from nltk.stem import WordNetLemmatizer \n",
        "lemmatizer = WordNetLemmatizer()"
      ],
      "execution_count": null,
      "outputs": [
        {
          "output_type": "stream",
          "text": [
            "[nltk_data] Downloading package stopwords to /root/nltk_data...\n",
            "[nltk_data]   Unzipping corpora/stopwords.zip.\n",
            "[nltk_data] Downloading package punkt to /root/nltk_data...\n",
            "[nltk_data]   Unzipping tokenizers/punkt.zip.\n",
            "[nltk_data] Downloading package wordnet to /root/nltk_data...\n",
            "[nltk_data]   Unzipping corpora/wordnet.zip.\n"
          ],
          "name": "stdout"
        }
      ]
    },
    {
      "cell_type": "markdown",
      "metadata": {
        "id": "RBvDlM9zp3-H"
      },
      "source": [
        "###Data Preparation --- "
      ]
    },
    {
      "cell_type": "code",
      "metadata": {
        "colab": {
          "base_uri": "https://localhost:8080/"
        },
        "id": "e0RrpN3qpK-l",
        "outputId": "c902c00b-e231-450d-84b1-185c580d5924"
      },
      "source": [
        "# trying varying with number of training samples - 1000, 10000,20000 \n",
        "\n",
        "n = 10000   ### number of trainig documents\n",
        "m = 5000   ## test is fixed as 5000 documents\n",
        "train_df = meta_train_df.loc[0:n,]\n",
        "test_df = meta_test_df.loc[0:m,]\n",
        "\n",
        "train_df.shape, test_df.shape"
      ],
      "execution_count": null,
      "outputs": [
        {
          "output_type": "execute_result",
          "data": {
            "text/plain": [
              "((10001, 3), (5001, 3))"
            ]
          },
          "metadata": {
            "tags": []
          },
          "execution_count": 59
        }
      ]
    },
    {
      "cell_type": "code",
      "metadata": {
        "colab": {
          "base_uri": "https://localhost:8080/",
          "height": 204
        },
        "id": "paP-Fzs8rARh",
        "outputId": "7e6d16e9-5d14-4058-b006-5908ca9e1ef2"
      },
      "source": [
        "train_df.head()"
      ],
      "execution_count": null,
      "outputs": [
        {
          "output_type": "execute_result",
          "data": {
            "text/html": [
              "<div>\n",
              "<style scoped>\n",
              "    .dataframe tbody tr th:only-of-type {\n",
              "        vertical-align: middle;\n",
              "    }\n",
              "\n",
              "    .dataframe tbody tr th {\n",
              "        vertical-align: top;\n",
              "    }\n",
              "\n",
              "    .dataframe thead th {\n",
              "        text-align: right;\n",
              "    }\n",
              "</style>\n",
              "<table border=\"1\" class=\"dataframe\">\n",
              "  <thead>\n",
              "    <tr style=\"text-align: right;\">\n",
              "      <th></th>\n",
              "      <th>post</th>\n",
              "      <th>age</th>\n",
              "      <th>gender</th>\n",
              "    </tr>\n",
              "  </thead>\n",
              "  <tbody>\n",
              "    <tr>\n",
              "      <th>0</th>\n",
              "      <td>ooh shiny new commenting!</td>\n",
              "      <td>16</td>\n",
              "      <td>female</td>\n",
              "    </tr>\n",
              "    <tr>\n",
              "      <th>1</th>\n",
              "      <td>so wuts up? today i had the parade. suked. but...</td>\n",
              "      <td>14</td>\n",
              "      <td>male</td>\n",
              "    </tr>\n",
              "    <tr>\n",
              "      <th>2</th>\n",
              "      <td>i don't know about anyone else anymore, but i'...</td>\n",
              "      <td>24</td>\n",
              "      <td>female</td>\n",
              "    </tr>\n",
              "    <tr>\n",
              "      <th>3</th>\n",
              "      <td>urlLink    another roof-top sunset  Posted by ...</td>\n",
              "      <td>24</td>\n",
              "      <td>male</td>\n",
              "    </tr>\n",
              "    <tr>\n",
              "      <th>4</th>\n",
              "      <td>gawd i luv my nanny!  she's absolutely the gre...</td>\n",
              "      <td>23</td>\n",
              "      <td>female</td>\n",
              "    </tr>\n",
              "  </tbody>\n",
              "</table>\n",
              "</div>"
            ],
            "text/plain": [
              "                                                post  age  gender\n",
              "0                          ooh shiny new commenting!   16  female\n",
              "1  so wuts up? today i had the parade. suked. but...   14    male\n",
              "2  i don't know about anyone else anymore, but i'...   24  female\n",
              "3  urlLink    another roof-top sunset  Posted by ...   24    male\n",
              "4  gawd i luv my nanny!  she's absolutely the gre...   23  female"
            ]
          },
          "metadata": {
            "tags": []
          },
          "execution_count": 7
        }
      ]
    },
    {
      "cell_type": "code",
      "metadata": {
        "colab": {
          "base_uri": "https://localhost:8080/",
          "height": 290
        },
        "id": "AF9c1CW4ptOW",
        "outputId": "f8562255-4365-4bef-f8d2-8d2693adaa09"
      },
      "source": [
        "# grouping age groups into three classes\n",
        "\"\"\"\n",
        "00 - 17 -> Minor\n",
        "23 - 27 -> Adult\n",
        "33 - up -> Mature\n",
        "\n",
        "\"\"\"\n",
        "\n",
        "def age_grouping(age):\n",
        "  if age >=33:\n",
        "    return 'Mature'\n",
        "  elif age <= 17:\n",
        "    return 'Minor'\n",
        "  else:\n",
        "    return 'Adult'\n",
        "\n",
        "\n",
        "train_df['age_group'] = train_df['age'].apply(lambda x: age_grouping(x))\n",
        "test_df['age_group'] = test_df['age'].apply(lambda x: age_grouping(x))\n",
        "\n",
        "# gender 0 for male, 1 for female \n",
        "\n",
        "train_df['gender'].value_counts().plot(kind = 'bar')\n",
        "\n",
        "train_df['gender'] = train_df['gender'].apply(lambda x: 0 if x == 'male' else 1)\n",
        "test_df['gender'] = test_df['gender'].apply(lambda x: 0 if x == 'male' else 1)"
      ],
      "execution_count": null,
      "outputs": [
        {
          "output_type": "display_data",
          "data": {
            "image/png": "[encoded data removed]",
            "text/plain": [
              "<Figure size 432x288 with 1 Axes>"
            ]
          },
          "metadata": {
            "tags": [],
            "needs_background": "light"
          }
        }
      ]
    },
    {
      "cell_type": "code",
      "metadata": {
        "colab": {
          "base_uri": "https://localhost:8080/",
          "height": 307
        },
        "id": "p6hgXO9BrJFe",
        "outputId": "5013bad4-df9e-47fb-b0b3-7b0ed7d07be2"
      },
      "source": [
        "train_df['age_group'].value_counts().plot(kind = 'bar')"
      ],
      "execution_count": null,
      "outputs": [
        {
          "output_type": "execute_result",
          "data": {
            "text/plain": [
              "<matplotlib.axes._subplots.AxesSubplot at 0x7f537d527208>"
            ]
          },
          "metadata": {
            "tags": []
          },
          "execution_count": 61
        },
        {
          "output_type": "display_data",
          "data": {
            "image/png": "[encoded data removed]",
            "text/plain": [
              "<Figure size 432x288 with 1 Axes>"
            ]
          },
          "metadata": {
            "tags": [],
            "needs_background": "light"
          }
        }
      ]
    },
    {
      "cell_type": "code",
      "metadata": {
        "colab": {
          "base_uri": "https://localhost:8080/"
        },
        "id": "gwDy_XZ-vrDk",
        "outputId": "29f1425c-8b01-458f-c952-0222355c298b"
      },
      "source": [
        "from collections import Counter\n",
        "\n",
        "\n",
        "def get_words(category):\n",
        "  temp_df = train_df[train_df['age_group']==category]\n",
        "  text = temp_df.post.str.cat()\n",
        "  # split_it = data_set.split()\n",
        "\n",
        "  # Pass the split_it list to instance of Counter class.\n",
        "  counter_dict = Counter(text.lower().split())\n",
        "  #print(Counter)\n",
        "\n",
        "  # most_common() produces k frequently encountered\n",
        "  # input values and their respective counts.\n",
        "  most_occur = counter_dict.most_common(10)\n",
        "  print(category + ' top 10 word and counts are ')\n",
        "  print(most_occur)\n",
        "\n",
        "  return most_occur\n",
        "\n",
        "\n",
        "for group in ['Minor','Adult','Mature']:\n",
        "  _ = get_words(group)"
      ],
      "execution_count": null,
      "outputs": [
        {
          "output_type": "stream",
          "text": [
            "Minor top 10 word and counts are \n",
            "[('i', 24266), ('the', 20587), ('to', 17624), ('and', 16589), ('a', 11779), ('of', 9193), ('my', 7426), ('that', 7049), ('in', 6683), ('it', 6637)]\n",
            "Adult top 10 word and counts are \n",
            "[('the', 38210), ('i', 30488), ('to', 27771), ('and', 24456), ('a', 21085), ('of', 17997), ('in', 12249), ('that', 11991), ('my', 10215), ('is', 9936)]\n",
            "Mature top 10 word and counts are \n",
            "[('the', 18698), ('to', 12098), ('i', 11305), ('and', 11102), ('a', 9527), ('of', 8865), ('in', 6112), ('that', 5258), ('is', 4189), ('my', 4090)]\n"
          ],
          "name": "stdout"
        }
      ]
    },
    {
      "cell_type": "code",
      "metadata": {
        "id": "UGQN9an2rLFt"
      },
      "source": [
        "from sklearn import model_selection, preprocessing, linear_model, naive_bayes, metrics, svm\n",
        "from sklearn.feature_extraction.text import TfidfVectorizer, CountVectorizer"
      ],
      "execution_count": null,
      "outputs": []
    },
    {
      "cell_type": "code",
      "metadata": {
        "id": "C0qwe2eLsaCo"
      },
      "source": [
        "# label encode the target variable \n",
        "encoder = preprocessing.LabelEncoder()\n",
        "train_y = encoder.fit_transform(train_df['age_group'])\n",
        "test_y = encoder.fit_transform(test_df['age_group'])"
      ],
      "execution_count": null,
      "outputs": []
    },
    {
      "cell_type": "markdown",
      "metadata": {
        "id": "6Q8o-0kws0wA"
      },
      "source": [
        "### Feature Engineering \n",
        "\n",
        "The next step is the feature engineering step. In this step, raw text data will be transformed into feature vectors and new features will be created using the existing dataset. We will implement the following different ideas in order to obtain relevant features from our dataset.\n",
        "\n",
        "- Count Vectors as features\n",
        "- TF-IDF Vectors as features\n",
        "\n",
        "      Word level\n",
        "      N-Gram level\n",
        "\n",
        "- Word Embeddings as features\n"
      ]
    },
    {
      "cell_type": "markdown",
      "metadata": {
        "id": "p26-R7f8tHgN"
      },
      "source": [
        "## Count Vectors"
      ]
    },
    {
      "cell_type": "code",
      "metadata": {
        "id": "c01zjwBRsxIf"
      },
      "source": [
        "# create a count vectorizer object \n",
        "count_vect = CountVectorizer(analyzer='word', token_pattern=r'\\w{1,}')\n",
        "count_vect.fit(train_df['post'])\n",
        "\n",
        "# transform the training and validation data using count vectorizer object\n",
        "train_count =  count_vect.transform(train_df['post'])\n",
        "test_count =  count_vect.transform(test_df['post'])"
      ],
      "execution_count": null,
      "outputs": []
    },
    {
      "cell_type": "markdown",
      "metadata": {
        "id": "XgjFGe8SuRQ-"
      },
      "source": [
        "## tf_idf \n",
        "      word\n",
        "      ngram\n",
        "\\"
      ]
    },
    {
      "cell_type": "code",
      "metadata": {
        "id": "JAeH-thkuGuL"
      },
      "source": [
        "# word level tf-idf\n",
        "tfidf_vect = TfidfVectorizer(analyzer='word', token_pattern=r'\\w{1,}', max_features=5000)\n",
        "tfidf_vect.fit(train_df['post'])\n",
        "train_tfidf =  tfidf_vect.transform(train_df['post'])\n",
        "test_tfidf =  tfidf_vect.transform(test_df['post'])\n",
        "\n",
        "# ngram level tf-idf \n",
        "tfidf_vect_ngram = TfidfVectorizer(analyzer='word', token_pattern=r'\\w{1,}', ngram_range=(2,3), max_features=5000)\n",
        "tfidf_vect_ngram.fit(train_df['post'])\n",
        "train_tfidf_ngram =  tfidf_vect_ngram.transform(train_df['post'])\n",
        "test_tfidf_ngram =  tfidf_vect_ngram.transform(test_df['post'])"
      ],
      "execution_count": null,
      "outputs": []
    },
    {
      "cell_type": "code",
      "metadata": {
        "id": "baR14n-SLBcv"
      },
      "source": [],
      "execution_count": null,
      "outputs": []
    },
    {
      "cell_type": "markdown",
      "metadata": {
        "id": "O1azWCsNvR3B"
      },
      "source": [
        "# Baseline model - NB Bernoulli"
      ]
    },
    {
      "cell_type": "code",
      "metadata": {
        "id": "36PVnKmR8W8J"
      },
      "source": [],
      "execution_count": null,
      "outputs": []
    },
    {
      "cell_type": "code",
      "metadata": {
        "id": "racfywF_vzXq"
      },
      "source": [
        "def train_model(classifier, feature_vector_train, label, feature_vector_valid):\n",
        "    # fit the training dataset on the classifier\n",
        "    classifier.fit(feature_vector_train, label)\n",
        "    \n",
        "    # predict the labels on validation dataset\n",
        "    predictions = classifier.predict(feature_vector_valid)\n",
        "    \n",
        "    return metrics.accuracy_score(predictions, test_y), metrics.f1_score(predictions,test_y,average='weighted')"
      ],
      "execution_count": null,
      "outputs": []
    },
    {
      "cell_type": "code",
      "metadata": {
        "colab": {
          "base_uri": "https://localhost:8080/"
        },
        "id": "Mne0-VsXv3UN",
        "outputId": "616c8ef7-1b7a-4167-bfc4-b47143adeae4"
      },
      "source": [
        "# Naive Bayes on Count Vectors\n",
        "accuracy,f1_score = train_model(naive_bayes.BernoulliNB(), train_count, train_y, test_count)\n",
        "print(\"NB, Accuracy of Count Vectors: \", accuracy)\n",
        "print(\"NB, F1 score of Count Vectors: \", f1_score)\n",
        "\n",
        "# Naive Bayes on Word Level TF IDF Vectors\n",
        "accuracy,f1_score = train_model(naive_bayes.BernoulliNB(), train_tfidf, train_y, test_tfidf)\n",
        "print(\"NB, Accuracy of WordLevel TF-IDF: \", accuracy)\n",
        "print(\"NB, F1 score of TF-IDF: \", f1_score)\n",
        "\n",
        "# Naive Bayes on Ngram Level TF IDF Vectors\n",
        "accuracy,f1_score = train_model(naive_bayes.BernoulliNB(), train_tfidf_ngram, train_y, test_tfidf_ngram)\n",
        "print(\"NB, Accuracy of N-Gram Vectors: \", accuracy)\n",
        "print(\"NB, F1 score of ngram Vectors: \", f1_score)"
      ],
      "execution_count": null,
      "outputs": [
        {
          "output_type": "stream",
          "text": [
            "NB, Accuracy of Count Vectors:  0.5388922215556888\n",
            "NB, F1 score of Count Vectors:  0.5648808392052208\n",
            "NB, Accuracy of WordLevel TF-IDF:  0.4783043391321736\n",
            "NB, F1 score of TF-IDF:  0.49650330090593947\n",
            "NB, Accuracy of N-Gram Vectors:  0.45930813837232554\n",
            "NB, F1 score of ngram Vectors:  0.4802160998240997\n"
          ],
          "name": "stdout"
        }
      ]
    },
    {
      "cell_type": "markdown",
      "metadata": {
        "id": "au_qP2NgIZCP"
      },
      "source": [
        "## Data Cleaning"
      ]
    },
    {
      "cell_type": "code",
      "metadata": {
        "id": "S0XnlqzVXDi5"
      },
      "source": [
        "def data_cleaning(text):\n",
        "  ds = word_tokenize(text)\n",
        "  for idx,j in enumerate(ds):\n",
        "    j = j.translate(str.maketrans('', '', string.punctuation+'0123456789'))  #### removing punctuations\n",
        "    j = j.lower() #### lowering all words ######\n",
        "    #j = lemmatizer.lemmatize(j) #### lemmatize noun\n",
        "    #j = lemmatizer.lemmatize(j,'v') #### lemmatize verb\n",
        "    ds[idx] = j\n",
        "  #ds = [j for j in ds if not j in stopwords.words()]\n",
        "  ds = list(filter(None, ds)) ### filter out empty tokens if any\n",
        "  new_text = \" \".join([i for i in ds if len(i) >2 and len(i) < 16])  ####### length of words should be greater than 2 and less than 16\n",
        "  return new_text"
      ],
      "execution_count": null,
      "outputs": []
    },
    {
      "cell_type": "code",
      "metadata": {
        "colab": {
          "base_uri": "https://localhost:8080/",
          "height": 35
        },
        "id": "UhiNZqKZpv6L",
        "outputId": "ac253c38-4205-468d-f9be-b75a5af1653a"
      },
      "source": [
        "data_cleaning(\"I live in 49 S Maxwell Street, Maxwell's building\")"
      ],
      "execution_count": null,
      "outputs": [
        {
          "output_type": "execute_result",
          "data": {
            "application/vnd.google.colaboratory.intrinsic+json": {
              "type": "string"
            },
            "text/plain": [
              "'live maxwell street maxwell building'"
            ]
          },
          "metadata": {
            "tags": []
          },
          "execution_count": 70
        }
      ]
    },
    {
      "cell_type": "code",
      "metadata": {
        "id": "bvkGQb37b2XN"
      },
      "source": [
        "train_df['clean_post'] = train_df['post'].apply(lambda x: data_cleaning(x)) # cleaning post\n",
        "test_df['clean_post'] = test_df['post'].apply(lambda x: data_cleaning(x)) # cleaning post"
      ],
      "execution_count": null,
      "outputs": []
    },
    {
      "cell_type": "markdown",
      "metadata": {
        "id": "UH9ykat3cy9T"
      },
      "source": [
        "# New count vector and tf-idf"
      ]
    },
    {
      "cell_type": "code",
      "metadata": {
        "id": "BUsF_Bw0XEcT"
      },
      "source": [
        "# create a count vectorizer object \n",
        "count_vect = CountVectorizer(analyzer='word', token_pattern=r'\\w{1,}')\n",
        "count_vect.fit(train_df['clean_post'])\n",
        "\n",
        "# # transform the training and validation data using count vectorizer object\n",
        "train_count =  count_vect.transform(train_df['clean_post'])\n",
        "test_count =  count_vect.transform(test_df['clean_post'])"
      ],
      "execution_count": null,
      "outputs": []
    },
    {
      "cell_type": "code",
      "metadata": {
        "id": "AYwbvwADXEfi"
      },
      "source": [
        "# # word level tf-idf\n",
        "tfidf_vect = TfidfVectorizer(analyzer='word', token_pattern=r'\\w{1,}', max_features=5000)\n",
        "tfidf_vect.fit(train_df['clean_post'])\n",
        "train_tfidf =  tfidf_vect.transform(train_df['clean_post'])\n",
        "test_tfidf =  tfidf_vect.transform(test_df['clean_post'])\n",
        "\n",
        "# # ngram level tf-idf \n",
        "tfidf_vect_ngram = TfidfVectorizer(analyzer='word', token_pattern=r'\\w{1,}', ngram_range=(2,3), max_features=5000)\n",
        "tfidf_vect_ngram.fit(train_df['clean_post'])\n",
        "train_tfidf_ngram =  tfidf_vect_ngram.transform(train_df['clean_post'])\n",
        "test_tfidf_ngram =  tfidf_vect_ngram.transform(test_df['clean_post'])"
      ],
      "execution_count": null,
      "outputs": []
    },
    {
      "cell_type": "code",
      "metadata": {
        "id": "74MLM2kddD91"
      },
      "source": [],
      "execution_count": null,
      "outputs": []
    },
    {
      "cell_type": "markdown",
      "metadata": {
        "id": "KF1QqzOWdIRu"
      },
      "source": [
        "#Naive Bayes"
      ]
    },
    {
      "cell_type": "code",
      "metadata": {
        "colab": {
          "base_uri": "https://localhost:8080/"
        },
        "id": "jKo7uwtjdQAL",
        "outputId": "15c728ce-3b1f-4145-c188-29870fe357e6"
      },
      "source": [
        "# Naive Bayes on Count Vectors\n",
        "accuracy,f1_score = train_model(naive_bayes.MultinomialNB(), train_count, train_y, test_count)\n",
        "print(\"NB, Accuracy of Count Vectors: \", accuracy)\n",
        "print(\"NB, F1 score of Count Vectors: \", f1_score)\n",
        "\n",
        "# Naive Bayes on Word Level TF IDF Vectors\n",
        "accuracy,f1_score = train_model(naive_bayes.MultinomialNB(), train_tfidf, train_y, test_tfidf)\n",
        "print(\"NB, Accuracy of WordLevel TF-IDF: \", accuracy)\n",
        "print(\"NB, F1 score of TF-IDF: \", f1_score)\n",
        "\n",
        "# Naive Bayes on Ngram Level TF IDF Vectors\n",
        "accuracy,f1_score = train_model(naive_bayes.MultinomialNB(), train_tfidf_ngram, train_y, test_tfidf_ngram)\n",
        "print(\"NB, Accuracy of N-Gram Vectors: \", accuracy)\n",
        "print(\"NB, F1 score of ngram Vectors: \", f1_score)"
      ],
      "execution_count": null,
      "outputs": [
        {
          "output_type": "stream",
          "text": [
            "NB, Accuracy of Count Vectors:  0.6140771845630874\n",
            "NB, F1 score of Count Vectors:  0.6352982949919098\n",
            "NB, Accuracy of WordLevel TF-IDF:  0.6038792241551689\n",
            "NB, F1 score of TF-IDF:  0.6570809732501623\n",
            "NB, Accuracy of N-Gram Vectors:  0.5438912217556489\n",
            "NB, F1 score of ngram Vectors:  0.6119563410181944\n"
          ],
          "name": "stdout"
        }
      ]
    },
    {
      "cell_type": "markdown",
      "metadata": {
        "id": "fcsmpg49dT7W"
      },
      "source": [
        "# Logistic Regression"
      ]
    },
    {
      "cell_type": "code",
      "metadata": {
        "colab": {
          "base_uri": "https://localhost:8080/"
        },
        "id": "jhliw7BxwE7K",
        "outputId": "fb71bb41-5f4e-4466-af0e-65277a58f3da"
      },
      "source": [
        "# Linear Classifier  on Count Vectors\n",
        "accuracy, f1_score = train_model(linear_model.LogisticRegression(multi_class='multinomial'), train_count, train_y, test_count)\n",
        "print(\"LR, Accuracy of Count Vectors: \", accuracy)\n",
        "print(\"LR, F1 score of Count Vectors: \", f1_score)\n",
        "\n",
        "# Linear Classifier  on Word Level TF IDF Vectors\n",
        "accuracy,f1_score = train_model(linear_model.LogisticRegression(), train_tfidf, train_y, test_tfidf)\n",
        "print (\"LR, Accuracy of WordLevel TF-IDF: \", accuracy)\n",
        "print(\"LR, F1 score of Wordlevel TF-IDF: \", f1_score)\n",
        "\n",
        "# Linear Classifier  on Ngram Level TF IDF Vectors\n",
        "accuracy,f1_score = train_model(linear_model.LogisticRegression(), train_tfidf_ngram, train_y, test_tfidf_ngram)\n",
        "print (\"LR, Accuracy of N-Gram Vectors: \", accuracy)\n",
        "print(\"LR, F1 score of N-gram: \", f1_score)"
      ],
      "execution_count": null,
      "outputs": [
        {
          "output_type": "stream",
          "text": [
            "LR, Accuracy of Count Vectors:  0.5822835432913417\n",
            "LR, F1 score of Count Vectors:  0.5909565770234021\n",
            "LR, Accuracy of WordLevel TF-IDF:  0.6000799840031994\n",
            "LR, F1 score of Wordlevel TF-IDF:  0.6317239314814139\n",
            "LR, Accuracy of N-Gram Vectors:  0.5278944211157769\n",
            "LR, F1 score of N-gram:  0.5691471753119898\n"
          ],
          "name": "stdout"
        }
      ]
    },
    {
      "cell_type": "markdown",
      "metadata": {
        "id": "cw04wCGIdYog"
      },
      "source": [
        "# SVM"
      ]
    },
    {
      "cell_type": "code",
      "metadata": {
        "id": "UfnlSEIjwiGH",
        "colab": {
          "base_uri": "https://localhost:8080/"
        },
        "outputId": "56d828a9-02b2-48cc-fe75-6c60be5fc363"
      },
      "source": [
        "# SVM on Count Vectors\n",
        "from sklearn.svm import LinearSVC\n",
        "accuracy, f1_score = train_model(LinearSVC(random_state=0, tol=1e-5), train_count, train_y, test_count)\n",
        "print(\"SVM, Accuracy of Count Vectors: \", accuracy)\n",
        "print(\"SVM, F1-score of Count Vectors: \", f1_score)\n",
        "\n",
        "# SVM on Word Level TF IDF Vectors\n",
        "accuracy, f1_score = train_model(LinearSVC(random_state=0, tol=1e-5), train_tfidf, train_y, test_tfidf)\n",
        "print (\"SVM, Accuracy of WordLevel TF-IDF: \", accuracy)\n",
        "print (\"SVM, F1-score of WordLevel TF-IDF: \", f1_score)\n",
        "\n",
        "# SVM on Ngram Level TF IDF Vectors\n",
        "accuracy, f1_score = train_model(LinearSVC(random_state=0, tol=1e-5), train_tfidf_ngram, train_y, test_tfidf_ngram)\n",
        "print (\"SVM, Accuracy of N-Gram Vectors: \", accuracy)\n",
        "print (\"SVM, F1 score of N-gram: \", f1_score)"
      ],
      "execution_count": null,
      "outputs": [
        {
          "output_type": "stream",
          "text": [
            "SVM, Accuracy of Count Vectors:  0.5448910217956409\n",
            "SVM, F1-score of Count Vectors:  0.5493347632536204\n",
            "SVM, Accuracy of WordLevel TF-IDF:  0.5716856628674265\n",
            "SVM, F1-score of WordLevel TF-IDF:  0.5818289403447987\n",
            "SVM, Accuracy of N-Gram Vectors:  0.4941011797640472\n",
            "SVM, F1 score of N-gram:  0.5088677343643037\n"
          ],
          "name": "stdout"
        }
      ]
    },
    {
      "cell_type": "markdown",
      "metadata": {
        "id": "4p8yDCj6gwj5"
      },
      "source": [
        "# Random Forest"
      ]
    },
    {
      "cell_type": "code",
      "metadata": {
        "colab": {
          "base_uri": "https://localhost:8080/"
        },
        "id": "_mRZnxTLdlMT",
        "outputId": "2bd4447b-3fce-415f-92ac-304454c3e4f2"
      },
      "source": [
        "from sklearn import ensemble\n",
        "# RF on Count Vectors\n",
        "accuracy, f1_score = train_model(ensemble.RandomForestClassifier(n_estimators=1000), train_count, train_y, test_count)\n",
        "print(\"RF, Accuracy of Count Vectors: \", accuracy)\n",
        "print(\"RF, F1 score of Count Vectors: \", f1_score)\n",
        "\n",
        "# RF on Word Level TF IDF Vectors\n",
        "accuracy, f1_score = train_model(ensemble.RandomForestClassifier(n_estimators=1000), train_tfidf, train_y, test_tfidf)\n",
        "print(\"RF, Accuracy of WordLevel TF-IDF: \", accuracy)\n",
        "print(\"RF, F1 score of WordLevel TF-IDF: \", f1_score)\n",
        "\n",
        "# RF on Ngram Level TF IDF Vectors\n",
        "accuracy, f1_score = train_model(ensemble.RandomForestClassifier(n_estimators=1000), train_tfidf_ngram, train_y, test_tfidf_ngram)\n",
        "print (\"RF, Accuracy of N-Gram Vectors: \", accuracy)\n",
        "print (\"RF, F1 score of N-gram: \", f1_score)"
      ],
      "execution_count": null,
      "outputs": [
        {
          "output_type": "stream",
          "text": [
            "RF, Accuracy of Count Vectors:  0.5934813037392521\n",
            "RF, F1 score of Count Vectors:  0.6584716285044093\n",
            "RF, Accuracy of WordLevel TF-IDF:  0.5870825834833033\n",
            "RF, F1 score of WordLevel TF-IDF:  0.6507649762667116\n",
            "RF, Accuracy of N-Gram Vectors:  0.5232953409318136\n",
            "RF, F1 score of N-gram:  0.5838199840656298\n"
          ],
          "name": "stdout"
        }
      ]
    },
    {
      "cell_type": "markdown",
      "metadata": {
        "id": "v7sA2daOvPGV"
      },
      "source": [
        "# Embedding  Doc2Vec"
      ]
    },
    {
      "cell_type": "code",
      "metadata": {
        "id": "fvO4Ob90uJU3"
      },
      "source": [
        "#import spacy\n",
        "#import spacy.cli\n",
        "#spacy.cli.download('en_core_web_md')"
      ],
      "execution_count": null,
      "outputs": []
    },
    {
      "cell_type": "code",
      "metadata": {
        "id": "w902jGTbPtzu"
      },
      "source": [
        "# Load the spacy model\n",
        "\n",
        "#nlp = spacy.load('en_core_web_md')"
      ],
      "execution_count": null,
      "outputs": []
    },
    {
      "cell_type": "code",
      "metadata": {
        "id": "h2MLXUF2QGR8"
      },
      "source": [
        "# process a sentence using the model\n",
        "#doc = nlp(\"This is some text that I am processing with Spacy\")\n",
        "# Get the vector for 'text':\n",
        "#doc[3].vector\n",
        "# Get the mean vector for the entire sentence (useful for sentence classification etc.)\n",
        "#doc.vector"
      ],
      "execution_count": null,
      "outputs": []
    },
    {
      "cell_type": "code",
      "metadata": {
        "id": "1l5C18auu9AG"
      },
      "source": [
        "# def create_cnn():\n",
        "#     # Add an Input Layer\n",
        "#     input_layer = layers.Input((70, ))\n",
        "\n",
        "#     # Add the word embedding Layer\n",
        "#     embedding_layer = layers.Embedding(len(word_index) + 1, 300, weights=[embedding_matrix], trainable=False)(input_layer)\n",
        "#     embedding_layer = layers.SpatialDropout1D(0.3)(embedding_layer)\n",
        "\n",
        "#     # Add the convolutional Layer\n",
        "#     conv_layer = layers.Convolution1D(100, 3, activation=\"relu\")(embedding_layer)\n",
        "\n",
        "#     # Add the pooling Layer\n",
        "#     pooling_layer = layers.GlobalMaxPool1D()(conv_layer)\n",
        "\n",
        "#     # Add the output Layers\n",
        "#     output_layer1 = layers.Dense(50, activation=\"relu\")(pooling_layer)\n",
        "#     output_layer1 = layers.Dropout(0.25)(output_layer1)\n",
        "#     output_layer2 = layers.Dense(1, activation=\"sigmoid\")(output_layer1)\n",
        "\n",
        "#     # Compile the model\n",
        "#     model = models.Model(inputs=input_layer, outputs=output_layer2)\n",
        "#     model.compile(optimizer=optimizers.Adam(), loss='binary_crossentropy')\n",
        "    \n",
        "#     return model\n",
        "\n",
        "# classifier = create_cnn()\n",
        "# accuracy = train_model(classifier, train_seq_x, train_y, valid_seq_x, is_neural_net=True)\n",
        "# print \"CNN, Word Embeddings\",  accuracy"
      ],
      "execution_count": null,
      "outputs": []
    },
    {
      "cell_type": "code",
      "metadata": {
        "id": "CpYdEkTzz5y-"
      },
      "source": [],
      "execution_count": null,
      "outputs": []
    },
    {
      "cell_type": "code",
      "metadata": {
        "colab": {
          "base_uri": "https://localhost:8080/"
        },
        "id": "nPoyxoYBz4CO",
        "outputId": "26f32007-6a10-47d8-c50e-3ab2bbd2afdd"
      },
      "source": [
        "from gensim.models.doc2vec import Doc2Vec, TaggedDocument\n",
        "#tokenize and tag the card text\n",
        "blog_docs = [TaggedDocument(doc.split(' '), [i]) \n",
        "             for i, doc in enumerate(train_df.clean_post)]\n",
        "#display the tagged docs\n",
        "blog_docs[0:5]"
      ],
      "execution_count": null,
      "outputs": [
        {
          "output_type": "execute_result",
          "data": {
            "text/plain": [
              "[TaggedDocument(words=['ooh', 'shiny', 'new', 'commenting'], tags=[0]),\n",
              " TaggedDocument(words=['wuts', 'today', 'had', 'the', 'parade', 'suked', 'but', 'wasnt', 'that', 'bad', 'done', 'with', 'band', 'for', 'the', 'year', 'had', 'battle', 'today', 'kicked', 'ass', 'they', 'had', 'nothing', 'then', 'jims', 'party', 'then', 'snotty', 'little', 'cousins', 'bday', 'party', 'dun', 'like', 'her', 'sublime', 'out'], tags=[1]),\n",
              " TaggedDocument(words=['know', 'about', 'anyone', 'else', 'anymore', 'but', 'less', 'and', 'less', 'concerned', 'everyday', 'wan', 'boldfaced', 'liar', 'ahead', 'got', 'other', 'stuff', 'wan', 'say', 'one', 'thing', 'and', 'the', 'other', 'whatever', 'got', 'wan', 'have', 'split', 'personalities', 'have', 'funi', 'hope', 'least', 'one', 'party', 'animal', 'lol', 'got', 'way', 'much', 'good', 'shit', 'happening', 'worry', 'about', 'little', 'children', 'and', 'their', 'little', 'problems', 'daycare', 'and', 'cry', 'there', 'have', 'time', 'for', 'anyways'], tags=[2]),\n",
              " TaggedDocument(words=['urllink', 'another', 'rooftop', 'sunset', 'posted', 'paul'], tags=[3]),\n",
              " TaggedDocument(words=['gawd', 'luv', 'nanny', 'she', 'absolutely', 'the', 'greatest', 'woman', 'earth', 'and', 'dont', 'know', 'where', 'without', 'her', 'today', 'very', 'nervous', 'about', 'moving', 'fredericton', 'when', 'the', 'time', 'comes', 'accepted', 'into', 'both', 'unb', 'and', 'nbcc', 'and', 'just', 'have', 'make', 'decision', 'where', 'want', 'should', 'finish', 'degree', 'but', 'just', 'dont', 'know', 'can', 'university', 'more', 'mean', 'nvr', 'thought', 'would', 'problem', 'but', 'this', 'year', 'has', 'been', 'real', 'eye', 'opener', 'had', 'learn', 'awful', 'lot', 'hard', 'lessons', 'and', 'all', 'but', 'shattered', 'confidance', 'guess', 'just', 'cuz', 'cant', 'play', 'dumb', 'and', 'float', 'through', 'life', 'naive', 'little', 'bubble', 'more', 'old', 'habits', 'are', 'really', 'hard', 'break', 'especially', 'old', 'ones', 'damn', 'parents', 'for', 'sheltering', 'and', 'never', 'making', 'work', 'for', 'thing', 'realize', 'how', 'spoiled', 'and', 'selfcentered', 'that', 'sounds', 'but', 'still', 'damn', 'them', 'sucks', 'having', 'walk', 'blindly', 'through', 'this', 'life', 'too', 'old', 'just', 'say', 'oops', 'bad', 'daddy', 'fix', 'this', 'whenever', 'mess', 'gon', 'end', 'doing', 'something', 'irreparable', 'sooner', 'later', 'already', 'have', 'done', 'some', 'horrible', 'things', 'this', 'year', 'that', 'nobuddy', 'will', 'ever', 'able', 'fix', 'hurt', 'someone', 'dont', 'even', 'know', 'the', 'absolute', 'worst', 'possible', 'way', 'ever', 'she', 'nvr', 'know', 'how', 'hurt', 'her', 'even', 'really', 'that', 'she', 'been', 'hurt', 'but', 'know', 'and', 'live', 'with', 'every', 'day', 'life', 'also', 'lost', 'best', 'friend', 'and', 'that', 'hurts', 'lot', 'too', 'dunno', 'guess', 'the', 'whole', 'point', 'this', 'thing', 'scared', 'being', 'out', 'own', 'like', 'child', 'that', 'you', 'have', 'monitor', 'cuz', 'who', 'knows', 'what', 'kind', 'trouble', 'can', 'get', 'myself', 'into', 'mean', 'have', 'bean', 'and', 'have', 'few', 'others', 'fred', 'can', 'depend', 'need', 'and', 'parents', 'are', 'only', 'hour', 'away', 'but', 'the', 'same', 'breath', 'almost', 'dont', 'want', 'that', 'cuz', 'just', 'makes', 'that', 'more', 'easier', 'mess', 'mean', 'have', 'someone', 'there', 'help', 'fix', 'kind', 'makes', 'okay', 'for', 'screw', 'that', 'even', 'makes', 'sense', 'guess', 'what', 'trying', 'say', 'didnt', 'have', 'support', 'system', 'readily', 'hand', 'more', 'conscience', 'actions', 'almost', 'makes', 'want', 'say', 'hell', 'with', 'life', 'here', 'and', 'hfx', 'instead', 'but', 'then', 'again', 'kat', 'down', 'there', 'and', 'much', 'love', 'her', 'dont', 'think', 'enjoy', 'living', 'the', 'same', 'city', 'her', 'and', 'far', 'not', 'wanting', 'live', 'the', 'same', 'city', 'kat', 'goes', 'could', 'say', 'the', 'same', 'for', 'fredericton', 'mean', 'only', 'know', 'handful', 'peeps', 'there', 'but', 'dont', 'particularly', 'enjoy', 'some', 'them', 'one', 'particular', 'dont', 'know', 'how', 'could', 'bring', 'myself', 'civil', 'around', 'them', 'cuz', 'like', 'beat', 'their', 'face', 'off', 'most', 'days', 'well', 'not', 'really', 'but', 'seeing', 'them', 'would', 'bring', 'back', 'lot', 'bad', 'memories', 'and', 'not', 'great', 'putting', 'fake', 'smile', 'and', 'acting', 'hunky', 'dory', 'wear', 'heart', 'sleave', 'and', 'know', 'they', 'see', 'right', 'through', 'faux', 'grinning', 'facade', 'that', 'would', 'just', 'uncomfortable', 'for', 'all', 'involved', 'and', 'doubtful', 'ever', 'even', 'really', 'run', 'into', 'said', 'person', 'cuz', 'completely', 'different', 'people', 'the', 'only', 'common', 'place', 'might', 'ever', 'meet', 'would', 'like', 'the', 'gas', 'station', 'something', 'like', 'that', 'but', 'still', 'the', 'concern', 'there', 'and', 'dont', 'know', 'want', 'set', 'myself', 'for', 'awkward', 'sitution', 'like', 'that', 'amazed', 'havent', 'run', 'into', 'them', 'yet', 'actually', 'mean', 'fred', 'enough', 'practically', 'live', 'there', 'argh', 'dont', 'know', 'all', 'backwards', 'back', 'nanny', 'was', 'talking', 'her', 'about', 'all', 'this', 'tonight', 'and', 'although', 'she', 'only', 'said', 'jamieanne', 'you', 'will', 'fine', 'was', 'very', 'assuring', 'there', 'something', 'about', 'her', 'that', 'just', 'soothing', 'less', 'than', 'month', 'before', 'decision', 'time', 'argh', 'what', 'gon', 'enuff', 'stressing', 'about', 'for', 'now', 'much', 'love', 'xoxo'], tags=[4])]"
            ]
          },
          "metadata": {
            "tags": []
          },
          "execution_count": 27
        }
      ]
    },
    {
      "cell_type": "code",
      "metadata": {
        "id": "4lnLwMvJ0f8c"
      },
      "source": [
        "#instantiate model\n",
        "model = Doc2Vec(vector_size=64, window=2, min_count=1, workers=8, epochs = 20)\n",
        "#build vocab\n",
        "model.build_vocab(blog_docs)\n",
        "#train model\n",
        "model.train(blog_docs, total_examples=model.corpus_count\n",
        "            , epochs=model.epochs)"
      ],
      "execution_count": null,
      "outputs": []
    },
    {
      "cell_type": "code",
      "metadata": {
        "colab": {
          "base_uri": "https://localhost:8080/"
        },
        "id": "5kY9iBjY04lv",
        "outputId": "407f759a-6f75-4b91-ba4d-2df12b22b344"
      },
      "source": [
        "#generate vectors\n",
        "blog2vec = [model.infer_vector((train_df['clean_post'][i].split(' '))) \n",
        "            for i in range(0,len(train_df['clean_post']))]\n",
        "blog2vec[0:1]"
      ],
      "execution_count": null,
      "outputs": [
        {
          "output_type": "execute_result",
          "data": {
            "text/plain": [
              "[array([-1.84252247e-01, -1.47927767e-02, -2.28969343e-02, -1.65510550e-01,\n",
              "        -4.84142639e-02,  6.14791736e-02,  4.91776019e-02,  1.15798332e-01,\n",
              "        -3.89431380e-02,  2.84522604e-02,  5.68193644e-02,  5.41177504e-02,\n",
              "        -4.97916676e-02, -4.17578146e-02,  7.12524652e-02, -1.18575387e-01,\n",
              "        -1.32234380e-01,  2.02381890e-02,  9.69302282e-02,  5.21117039e-02,\n",
              "         5.50912600e-03, -1.19678527e-01,  4.22446877e-02,  2.00241044e-01,\n",
              "        -1.09615095e-01,  1.14760399e-01,  9.81518105e-02,  1.20064057e-01,\n",
              "         1.09482817e-02,  1.82917655e-01,  9.73619521e-02,  5.00168055e-02,\n",
              "        -2.04677582e-01, -2.49522924e-01, -1.59118593e-01, -3.11051253e-02,\n",
              "         2.31923405e-02, -3.99610028e-02, -8.04584197e-05,  1.21576875e-01,\n",
              "        -2.98290257e-03, -7.09799603e-02,  1.39169887e-01, -5.04428037e-02,\n",
              "         1.18815102e-01, -3.49556915e-02, -3.93345281e-02, -1.15684405e-01,\n",
              "        -8.45410675e-02,  8.43274966e-02, -1.81906503e-02,  1.18824124e-01,\n",
              "         4.87557054e-02,  1.53314710e-01, -1.43125996e-01, -6.41990378e-02,\n",
              "         6.86310157e-02, -7.06380084e-02,  1.39363790e-02, -8.42852667e-02,\n",
              "        -8.00252147e-03, -1.80228040e-01, -4.23449203e-02, -9.45229679e-02],\n",
              "       dtype=float32)]"
            ]
          },
          "metadata": {
            "tags": []
          },
          "execution_count": 29
        }
      ]
    },
    {
      "cell_type": "code",
      "metadata": {
        "colab": {
          "base_uri": "https://localhost:8080/"
        },
        "id": "Z6Ef2rN7LDf1",
        "outputId": "60e69c84-54ba-4391-d4f9-acbf50394df0"
      },
      "source": [
        "### repeat for test\n",
        "blog2vec_test = [model.infer_vector((test_df['clean_post'][i].split(' '))) \n",
        "            for i in range(0,len(test_df['clean_post']))]\n",
        "blog2vec_test[0:1]"
      ],
      "execution_count": null,
      "outputs": [
        {
          "output_type": "execute_result",
          "data": {
            "text/plain": [
              "[array([-1.6071749e+00, -4.5375490e-01, -2.1966478e-01, -8.2072109e-01,\n",
              "        -8.9606440e-01, -1.0648730e+00, -1.1315959e-01,  7.3919839e-01,\n",
              "        -5.0247371e-01, -4.2410052e-01,  2.3294877e-01, -4.7686511e-01,\n",
              "        -3.3780909e-01,  5.4362335e-04,  1.4497383e-01, -5.6612170e-01,\n",
              "        -3.8743845e-01,  9.4730544e-01,  2.4528784e-01,  3.5911009e-01,\n",
              "        -4.5210827e-02, -8.2063550e-01, -2.4825206e-01,  8.0941981e-01,\n",
              "        -7.7013099e-01,  6.3125002e-01,  9.5817876e-01,  6.1479986e-01,\n",
              "        -6.0611182e-01,  1.0304832e+00,  2.1174471e-01, -1.2663643e+00,\n",
              "        -1.8385888e+00, -1.3510273e+00, -7.0802772e-01,  6.8044141e-02,\n",
              "        -5.1082671e-01, -2.0742376e-01, -7.2796300e-02,  3.1029931e-01,\n",
              "         9.4043233e-02,  1.0361230e-01,  6.9740427e-01,  1.3337258e-01,\n",
              "        -8.8760510e-02, -6.4275908e-01,  2.3190334e-01, -7.8154391e-01,\n",
              "        -9.7145659e-01,  4.0770581e-01, -4.2580011e-01,  1.1062846e+00,\n",
              "         5.5044985e-01,  9.0334183e-01, -1.1893823e+00, -6.0773385e-01,\n",
              "        -6.3625179e-02, -8.4398830e-01, -5.1626128e-01, -8.0104274e-01,\n",
              "        -9.3493927e-01, -6.0506934e-01, -1.4094655e-02, -7.2635755e-02],\n",
              "       dtype=float32)]"
            ]
          },
          "metadata": {
            "tags": []
          },
          "execution_count": 30
        }
      ]
    },
    {
      "cell_type": "code",
      "metadata": {
        "colab": {
          "base_uri": "https://localhost:8080/",
          "height": 111
        },
        "id": "blV4sPO81WCM",
        "outputId": "0dab0d85-7f17-4a31-8ca5-e16adf71de4a"
      },
      "source": [
        "import numpy as np\n",
        "#Create a list of lists\n",
        "dtv= np.array(blog2vec).tolist()\n",
        "#set list to dataframe column\n",
        "train_df['blog2vec'] = dtv\n",
        "\n",
        "## for test\n",
        "dtv_test= np.array(blog2vec_test).tolist()\n",
        "#set list to dataframe column\n",
        "test_df['blog2vec'] = dtv_test\n",
        "test_df.head(2)"
      ],
      "execution_count": null,
      "outputs": [
        {
          "output_type": "execute_result",
          "data": {
            "text/html": [
              "<div>\n",
              "<style scoped>\n",
              "    .dataframe tbody tr th:only-of-type {\n",
              "        vertical-align: middle;\n",
              "    }\n",
              "\n",
              "    .dataframe tbody tr th {\n",
              "        vertical-align: top;\n",
              "    }\n",
              "\n",
              "    .dataframe thead th {\n",
              "        text-align: right;\n",
              "    }\n",
              "</style>\n",
              "<table border=\"1\" class=\"dataframe\">\n",
              "  <thead>\n",
              "    <tr style=\"text-align: right;\">\n",
              "      <th></th>\n",
              "      <th>post</th>\n",
              "      <th>age</th>\n",
              "      <th>gender</th>\n",
              "      <th>age_group</th>\n",
              "      <th>clean_post</th>\n",
              "      <th>blog2vec</th>\n",
              "    </tr>\n",
              "  </thead>\n",
              "  <tbody>\n",
              "    <tr>\n",
              "      <th>0</th>\n",
              "      <td>Thabo admits defeat on quiet diplomacy  Mbeki ...</td>\n",
              "      <td>27</td>\n",
              "      <td>0</td>\n",
              "      <td>Adult</td>\n",
              "      <td>thabo admits defeat quiet diplomacy mbeki urll...</td>\n",
              "      <td>[-1.6071748733520508, -0.45375490188598633, -0...</td>\n",
              "    </tr>\n",
              "    <tr>\n",
              "      <th>1</th>\n",
              "      <td>Brainbench welcomes its 5 millionth subscriber...</td>\n",
              "      <td>25</td>\n",
              "      <td>0</td>\n",
              "      <td>Adult</td>\n",
              "      <td>brainbench welcomes its millionth subscriber a...</td>\n",
              "      <td>[-0.8804799318313599, -0.25145605206489563, -0...</td>\n",
              "    </tr>\n",
              "  </tbody>\n",
              "</table>\n",
              "</div>"
            ],
            "text/plain": [
              "                                                post  ...                                           blog2vec\n",
              "0  Thabo admits defeat on quiet diplomacy  Mbeki ...  ...  [-1.6071748733520508, -0.45375490188598633, -0...\n",
              "1  Brainbench welcomes its 5 millionth subscriber...  ...  [-0.8804799318313599, -0.25145605206489563, -0...\n",
              "\n",
              "[2 rows x 6 columns]"
            ]
          },
          "metadata": {
            "tags": []
          },
          "execution_count": 31
        }
      ]
    },
    {
      "cell_type": "code",
      "metadata": {
        "id": "si0MZt_jGzD8"
      },
      "source": [
        "##### Vectors into columns\n",
        "train_new = pd.DataFrame(train_df['blog2vec'].to_list(), index = train_df.index)\n",
        "\n",
        "test_new = pd.DataFrame(test_df['blog2vec'].to_list(), index = test_df.index) "
      ],
      "execution_count": null,
      "outputs": []
    },
    {
      "cell_type": "code",
      "metadata": {
        "colab": {
          "base_uri": "https://localhost:8080/"
        },
        "id": "mgcaVB5Fohov",
        "outputId": "bad361d8-8a45-43ec-bcf7-04dff63433ed"
      },
      "source": [
        "len(train_new),len(test_new)"
      ],
      "execution_count": null,
      "outputs": [
        {
          "output_type": "execute_result",
          "data": {
            "text/plain": [
              "(1001, 5001)"
            ]
          },
          "metadata": {
            "tags": []
          },
          "execution_count": 33
        }
      ]
    },
    {
      "cell_type": "code",
      "metadata": {
        "id": "zwOB_ot6ouN-"
      },
      "source": [
        "def train_model(classifier, feature_vector_train, label, feature_vector_valid):\n",
        "    # fit the training dataset on the classifier\n",
        "    classifier.fit(feature_vector_train, label)\n",
        "    \n",
        "    # predict the labels on validation dataset\n",
        "    predictions = classifier.predict(feature_vector_valid)\n",
        "    \n",
        "    return metrics.accuracy_score(predictions, test_y), metrics.f1_score(predictions,test_y,average='weighted')"
      ],
      "execution_count": null,
      "outputs": []
    },
    {
      "cell_type": "code",
      "metadata": {
        "colab": {
          "base_uri": "https://localhost:8080/",
          "height": 69
        },
        "id": "7jjwd0T3H3-2",
        "outputId": "8ee9f929-583b-40e8-9960-376599f3104f"
      },
      "source": [
        "accuracy,f1_score = train_model(naive_bayes.GaussianNB(), train_new, train_y, test_new)\n",
        "print(\"NB, Accuracy of Embedding (doc2vec): \", accuracy)\n",
        "print(\"NB, F1 score of Embedding (doc2vec): \", f1_score)\n",
        "\n",
        "\"\"\" ValueError : negative values so can't use Multinomial \"\"\""
      ],
      "execution_count": null,
      "outputs": [
        {
          "output_type": "stream",
          "text": [
            "NB, Accuracy of Embedding (doc2vec):  0.3987202559488102\n",
            "NB, F1 score of Embedding (doc2vec):  0.4536802115308911\n"
          ],
          "name": "stdout"
        },
        {
          "output_type": "execute_result",
          "data": {
            "application/vnd.google.colaboratory.intrinsic+json": {
              "type": "string"
            },
            "text/plain": [
              "\" ValueError : negative values so can't use Multinomial \""
            ]
          },
          "metadata": {
            "tags": []
          },
          "execution_count": 36
        }
      ]
    },
    {
      "cell_type": "code",
      "metadata": {
        "colab": {
          "base_uri": "https://localhost:8080/"
        },
        "id": "4rza9OtRMj3M",
        "outputId": "24ccbb4f-fb7f-49d4-f42a-fac130c676c6"
      },
      "source": [
        "accuracy,f1_score = train_model(linear_model.LogisticRegression(), train_new, train_y, test_new)\n",
        "print(\"LR, Accuracy of Embedding (doc2vec): \", accuracy)\n",
        "print(\"LR, F1 score of Embedding (doc2vec): \", f1_score)"
      ],
      "execution_count": null,
      "outputs": [
        {
          "output_type": "stream",
          "text": [
            "LR, Accuracy of Embedding (doc2vec):  0.524495100979804\n",
            "LR, F1 score of Embedding (doc2vec):  0.5776707316399039\n"
          ],
          "name": "stdout"
        }
      ]
    },
    {
      "cell_type": "code",
      "metadata": {
        "colab": {
          "base_uri": "https://localhost:8080/"
        },
        "id": "mZw3j7cLMxK4",
        "outputId": "bdbb2086-1260-49af-abeb-1710de6c71a3"
      },
      "source": [
        "accuracy,f1_score = train_model(LinearSVC(random_state=0, tol=1e-5), train_new, train_y, test_new)\n",
        "print(\"SVM, Accuracy of Embedding (doc2vec): \", accuracy)\n",
        "print(\"SVM, F1 score of Embedding (doc2vec): \", f1_score)"
      ],
      "execution_count": null,
      "outputs": [
        {
          "output_type": "stream",
          "text": [
            "SVM, Accuracy of Embedding (doc2vec):  0.5210957808438312\n",
            "SVM, F1 score of Embedding (doc2vec):  0.5744421454000154\n"
          ],
          "name": "stdout"
        }
      ]
    },
    {
      "cell_type": "code",
      "metadata": {
        "colab": {
          "base_uri": "https://localhost:8080/"
        },
        "id": "M83qC4oiM3pS",
        "outputId": "409cbd01-6f7f-4673-a848-aa8dd092d6eb"
      },
      "source": [
        "accuracy,f1_score = train_model(ensemble.RandomForestClassifier(n_estimators=1000), train_new, train_y, test_new)\n",
        "print(\"RFC, Accuracy of Embedding (doc2vec): \", accuracy)\n",
        "print(\"RFC, F1 score of Embedding (doc2vec): \", f1_score)"
      ],
      "execution_count": null,
      "outputs": [
        {
          "output_type": "stream",
          "text": [
            "RFC, Accuracy of Embedding (doc2vec):  0.528494301139772\n",
            "RFC, F1 score of Embedding (doc2vec):  0.586181491501539\n"
          ],
          "name": "stdout"
        }
      ]
    },
    {
      "cell_type": "code",
      "metadata": {
        "id": "hAnq9rOyMj6h"
      },
      "source": [],
      "execution_count": null,
      "outputs": []
    },
    {
      "cell_type": "markdown",
      "metadata": {
        "id": "n-B_7GfcM-k1"
      },
      "source": [
        "#Pre-trained Embedding - Glove"
      ]
    },
    {
      "cell_type": "code",
      "metadata": {
        "id": "0wbWTEi8ql06"
      },
      "source": [
        "from gensim.models.word2vec import Word2Vec\n",
        "X = train_df['clean_post'].apply(lambda x: word_tokenize(x))\n",
        "model = Word2Vec(X, size=100, window=5, min_count=5, workers=2)\n",
        "w2v = {w: vec for w, vec in zip(model.wv.index2word, model.wv.syn0)}"
      ],
      "execution_count": null,
      "outputs": []
    },
    {
      "cell_type": "code",
      "metadata": {
        "id": "8rXp558ZvktT"
      },
      "source": [
        "GLOVE_6B_100D_PATH = \"glove.6B.100d.txt\"\n",
        "encoding=\"utf-8\"\n",
        "import numpy as np\n",
        "with open(GLOVE_6B_100D_PATH, \"rb\") as lines:\n",
        "    wvec = {line.split()[0].decode(encoding): np.array(line.split()[1:],dtype=np.float32)\n",
        "               for line in lines}"
      ],
      "execution_count": null,
      "outputs": []
    },
    {
      "cell_type": "code",
      "metadata": {
        "id": "exOskIHdvhNL"
      },
      "source": [
        "import struct \n",
        "\n",
        "glove_small = {}\n",
        "all_words = set(w for words in X for w in words)\n",
        "with open(GLOVE_6B_100D_PATH, \"rb\") as infile:\n",
        "    for line in infile:\n",
        "        parts = line.split()\n",
        "        word = parts[0].decode(encoding)\n",
        "        if (word in all_words):\n",
        "            nums=np.array(parts[1:], dtype=np.float32)\n",
        "            glove_small[word] = nums"
      ],
      "execution_count": null,
      "outputs": []
    },
    {
      "cell_type": "code",
      "metadata": {
        "id": "altVI1bUqwHS"
      },
      "source": [
        "class MeanEmbeddingVectorizer(object):\n",
        "    def __init__(self, word2vec):\n",
        "        self.word2vec = word2vec\n",
        "        if len(word2vec)>0:\n",
        "            self.dim=len(word2vec[next(iter(glove_small))])\n",
        "        else:\n",
        "            self.dim=0\n",
        "            \n",
        "    def fit(self, X, y):\n",
        "        return self \n",
        "\n",
        "    def transform(self, X):\n",
        "        return np.array([\n",
        "            np.mean([self.word2vec[w] for w in words if w in self.word2vec] \n",
        "                    or [np.zeros(self.dim)], axis=0)\n",
        "            for words in X\n",
        "        ])"
      ],
      "execution_count": null,
      "outputs": []
    },
    {
      "cell_type": "code",
      "metadata": {
        "id": "BEdb4JYjs-PO"
      },
      "source": [
        "from sklearn.pipeline import Pipeline\n",
        "\n",
        "new_w2v = Pipeline([\n",
        "    (\"word2vec vectorizer\", MeanEmbeddingVectorizer(w2v))])"
      ],
      "execution_count": null,
      "outputs": []
    },
    {
      "cell_type": "code",
      "metadata": {
        "id": "NTJukyQ6CUqE"
      },
      "source": [
        "embedding_w2v = new_w2v.transform(X)"
      ],
      "execution_count": null,
      "outputs": []
    },
    {
      "cell_type": "code",
      "metadata": {
        "colab": {
          "base_uri": "https://localhost:8080/"
        },
        "id": "8cQbGOQOCbPv",
        "outputId": "dc80b405-280f-4948-deb0-c335e029bb04"
      },
      "source": [
        "embedding_w2v"
      ],
      "execution_count": null,
      "outputs": [
        {
          "output_type": "execute_result",
          "data": {
            "text/plain": [
              "array([[-0.06240042,  0.08471958,  0.23068051, ...,  0.46147186,\n",
              "         0.04719828, -0.12515111],\n",
              "       [-0.07485162,  0.107621  ,  0.27821204, ...,  0.54991245,\n",
              "         0.06108129, -0.14472955],\n",
              "       [-0.07093267,  0.10513051,  0.2776314 , ...,  0.54583591,\n",
              "         0.05025061, -0.13413593],\n",
              "       ...,\n",
              "       [-0.09073103,  0.12690207,  0.32092083, ...,  0.63195455,\n",
              "         0.06112313, -0.16345786],\n",
              "       [-0.07080024,  0.10428917,  0.27108148, ...,  0.53388667,\n",
              "         0.05310019, -0.13543901],\n",
              "       [-0.07399774,  0.11154065,  0.29025346, ...,  0.57790434,\n",
              "         0.04241037, -0.134994  ]])"
            ]
          },
          "metadata": {
            "tags": []
          },
          "execution_count": 46
        }
      ]
    },
    {
      "cell_type": "code",
      "metadata": {
        "colab": {
          "base_uri": "https://localhost:8080/"
        },
        "id": "22mtrjGZIjTv",
        "outputId": "d0ddc7e5-d561-47ce-d189-9681e0bf02f0"
      },
      "source": [
        "len(embedding_w2v)"
      ],
      "execution_count": null,
      "outputs": [
        {
          "output_type": "execute_result",
          "data": {
            "text/plain": [
              "1001"
            ]
          },
          "metadata": {
            "tags": []
          },
          "execution_count": 47
        }
      ]
    },
    {
      "cell_type": "code",
      "metadata": {
        "id": "AVpAX5_9S11p"
      },
      "source": [
        "####### For test"
      ],
      "execution_count": null,
      "outputs": []
    },
    {
      "cell_type": "code",
      "metadata": {
        "id": "TuxoOBw3TEBD"
      },
      "source": [
        "X_test = test_df['clean_post'].apply(lambda x: word_tokenize(x))\n",
        "model_test = Word2Vec(X_test, size=100, window=5, min_count=5, workers=2)\n",
        "w2v_test = {w: vec for w, vec in zip(model_test.wv.index2word, model_test.wv.syn0)}"
      ],
      "execution_count": null,
      "outputs": []
    },
    {
      "cell_type": "code",
      "metadata": {
        "id": "o0oits58TEBE"
      },
      "source": [
        "import struct \n",
        "glove_small = {}\n",
        "all_words = set(w for words in X_test for w in words)\n",
        "with open(GLOVE_6B_50D_PATH, \"rb\") as infile:\n",
        "    for line in infile:\n",
        "        parts = line.split()\n",
        "        word = parts[0].decode(encoding)\n",
        "        if (word in all_words):\n",
        "            nums=np.array(parts[1:], dtype=np.float32)\n",
        "            glove_small[word] = nums"
      ],
      "execution_count": null,
      "outputs": []
    },
    {
      "cell_type": "code",
      "metadata": {
        "id": "Ch_kv3pgTEBE"
      },
      "source": [
        "from sklearn.pipeline import Pipeline\n",
        "\n",
        "new_w2v_test = Pipeline([\n",
        "    (\"word2vec vectorizer\", MeanEmbeddingVectorizer(w2v_test))])"
      ],
      "execution_count": null,
      "outputs": []
    },
    {
      "cell_type": "code",
      "metadata": {
        "id": "CEDmmSjJS15F"
      },
      "source": [],
      "execution_count": null,
      "outputs": []
    },
    {
      "cell_type": "code",
      "metadata": {
        "colab": {
          "base_uri": "https://localhost:8080/"
        },
        "id": "ltsy4M_HOLe2",
        "outputId": "364d72c6-793b-4a29-99f4-fb1a53974d8c"
      },
      "source": [
        "####### same for test\n",
        "embedding_w2v_test = new_w2v_test.transform(X_test)\n",
        "embedding_w2v_test"
      ],
      "execution_count": null,
      "outputs": [
        {
          "output_type": "execute_result",
          "data": {
            "text/plain": [
              "array([[ 0.05763499,  0.1518113 ,  0.4360877 , ...,  0.19183277,\n",
              "        -0.11192209,  0.02686463],\n",
              "       [ 0.22156538,  0.24418624,  0.4693923 , ...,  0.22935748,\n",
              "        -0.29826802,  0.21055657],\n",
              "       [ 0.30484322,  0.32975662,  0.56122857, ...,  0.30113387,\n",
              "        -0.33542934,  0.23079336],\n",
              "       ...,\n",
              "       [ 0.20606829,  0.24005899,  0.45153338, ...,  0.16151083,\n",
              "        -0.23141333,  0.14474641],\n",
              "       [ 0.27558377,  0.38359368,  0.50565505, ...,  0.2514272 ,\n",
              "        -0.3478564 ,  0.1844075 ],\n",
              "       [-0.48278925,  0.32036877, -0.09483247, ..., -0.32660419,\n",
              "        -0.1078216 , -0.02651407]])"
            ]
          },
          "metadata": {
            "tags": []
          },
          "execution_count": 51
        }
      ]
    },
    {
      "cell_type": "code",
      "metadata": {
        "colab": {
          "base_uri": "https://localhost:8080/"
        },
        "id": "B1ScuQanO21T",
        "outputId": "535a473b-019b-4b2d-87e0-ef79b2ec79b7"
      },
      "source": [
        "len(embedding_w2v_test)"
      ],
      "execution_count": null,
      "outputs": [
        {
          "output_type": "execute_result",
          "data": {
            "text/plain": [
              "5001"
            ]
          },
          "metadata": {
            "tags": []
          },
          "execution_count": 52
        }
      ]
    },
    {
      "cell_type": "code",
      "metadata": {
        "id": "saMTXZ-mCoyk"
      },
      "source": [
        "import numpy as np\n",
        "#Create a list of lists\n",
        "new_dtv= np.array(embedding_w2v).tolist()\n",
        "#set list to dataframe column\n",
        "train_df['glove'] = new_dtv\n",
        "\n",
        "\n",
        "### for test\n",
        "new_dtv_test= np.array(embedding_w2v_test).tolist()\n",
        "#set list to dataframe column\n",
        "test_df['glove'] = new_dtv_test\n"
      ],
      "execution_count": null,
      "outputs": []
    },
    {
      "cell_type": "code",
      "metadata": {
        "id": "S4XRTASyC95s"
      },
      "source": [
        "### list to columns\n",
        "train_glove = pd.DataFrame(train_df['glove'].to_list(), index = train_df.index)\n",
        "\n",
        "test_glove = pd.DataFrame(test_df['glove'].to_list(), index = test_df.index)"
      ],
      "execution_count": null,
      "outputs": []
    },
    {
      "cell_type": "code",
      "metadata": {
        "colab": {
          "base_uri": "https://localhost:8080/"
        },
        "id": "lMPs-ISRC1ym",
        "outputId": "81716c4c-0f98-4dfc-d6d3-20d181dd5720"
      },
      "source": [
        "accuracy,f1_score = train_model(naive_bayes.GaussianNB(), train_glove, train_y, test_glove)\n",
        "print(\"NB, Accuracy of Count Vectors: \", accuracy)\n",
        "print(\"NB, F1 score of Count Vectors: \", f1_score)"
      ],
      "execution_count": null,
      "outputs": [
        {
          "output_type": "stream",
          "text": [
            "NB, Accuracy of Count Vectors:  0.1905618876224755\n",
            "NB, F1 score of Count Vectors:  0.3201209271078267\n"
          ],
          "name": "stdout"
        }
      ]
    },
    {
      "cell_type": "code",
      "metadata": {
        "colab": {
          "base_uri": "https://localhost:8080/"
        },
        "id": "QWRXONHaDXIi",
        "outputId": "cef95949-a78d-4176-9eff-ab1e1912b535"
      },
      "source": [
        "# SVM on Count Vectors\n",
        "accuracy, f1_score = train_model(LinearSVC(random_state=0, tol=1e-5), train_glove, train_y, test_glove)\n",
        "print(\"SVM, Accuracy of Count Vectors: \", accuracy)\n",
        "print(\"SVM, F1-score of Count Vectors: \", f1_score)"
      ],
      "execution_count": null,
      "outputs": [
        {
          "output_type": "stream",
          "text": [
            "SVM, Accuracy of Count Vectors:  0.4267146570685863\n",
            "SVM, F1-score of Count Vectors:  0.43986518402442887\n"
          ],
          "name": "stdout"
        }
      ]
    },
    {
      "cell_type": "code",
      "metadata": {
        "colab": {
          "base_uri": "https://localhost:8080/"
        },
        "id": "0Y67VXEdPng-",
        "outputId": "a97d6b6f-c111-4646-f94b-7fd7f6e4aaaa"
      },
      "source": [
        "# LR on Count Vectors\n",
        "accuracy, f1_score = train_model(linear_model.LogisticRegression(), train_glove, train_y, test_glove)\n",
        "print(\"LR, Accuracy of Count Vectors: \", accuracy)\n",
        "print(\"LR, F1-score of Count Vectors: \", f1_score)"
      ],
      "execution_count": null,
      "outputs": [
        {
          "output_type": "stream",
          "text": [
            "LR, Accuracy of Count Vectors:  0.4227154569086183\n",
            "LR, F1-score of Count Vectors:  0.43894592443286096\n"
          ],
          "name": "stdout"
        }
      ]
    },
    {
      "cell_type": "code",
      "metadata": {
        "colab": {
          "base_uri": "https://localhost:8080/"
        },
        "id": "mSbGR_rQQEAV",
        "outputId": "656beadf-b72d-4d82-c143-065bf5be511b"
      },
      "source": [
        "# RFC on Count Vectors\n",
        "accuracy, f1_score = train_model(ensemble.RandomForestClassifier(n_estimators=1000), train_glove, train_y, test_glove)\n",
        "print(\"RFC, Accuracy of Count Vectors: \", accuracy)\n",
        "print(\"RFC, F1-score of Count Vectors: \", f1_score)"
      ],
      "execution_count": null,
      "outputs": [
        {
          "output_type": "stream",
          "text": [
            "RFC, Accuracy of Count Vectors:  0.45710857828434315\n",
            "RFC, F1-score of Count Vectors:  0.5690398671013195\n"
          ],
          "name": "stdout"
        }
      ]
    },
    {
      "cell_type": "code",
      "metadata": {
        "id": "qh_6g9iAKwiA"
      },
      "source": [],
      "execution_count": null,
      "outputs": []
    },
    {
      "cell_type": "markdown",
      "metadata": {
        "id": "8S9lKoBsKxda"
      },
      "source": [
        "#Plots"
      ]
    },
    {
      "cell_type": "code",
      "metadata": {
        "id": "AnCxReOOK0hH"
      },
      "source": [
        "import seaborn as sns"
      ],
      "execution_count": null,
      "outputs": []
    },
    {
      "cell_type": "code",
      "metadata": {
        "colab": {
          "base_uri": "https://localhost:8080/",
          "height": 173
        },
        "id": "JOaxJjc6LHkk",
        "outputId": "2938e16f-9635-4032-85f7-53ffa8d0ac0b"
      },
      "source": [
        "plotdf = pd.read_csv(\"Comparisons.csv\")\n",
        "plotdf.head(4)"
      ],
      "execution_count": null,
      "outputs": [
        {
          "output_type": "execute_result",
          "data": {
            "text/html": [
              "<div>\n",
              "<style scoped>\n",
              "    .dataframe tbody tr th:only-of-type {\n",
              "        vertical-align: middle;\n",
              "    }\n",
              "\n",
              "    .dataframe tbody tr th {\n",
              "        vertical-align: top;\n",
              "    }\n",
              "\n",
              "    .dataframe thead th {\n",
              "        text-align: right;\n",
              "    }\n",
              "</style>\n",
              "<table border=\"1\" class=\"dataframe\">\n",
              "  <thead>\n",
              "    <tr style=\"text-align: right;\">\n",
              "      <th></th>\n",
              "      <th>Number of Training Samples</th>\n",
              "      <th>Model</th>\n",
              "      <th>Accuracy</th>\n",
              "    </tr>\n",
              "  </thead>\n",
              "  <tbody>\n",
              "    <tr>\n",
              "      <th>0</th>\n",
              "      <td>1000</td>\n",
              "      <td>Baseline - Bernoulli NB (Frequency)</td>\n",
              "      <td>0.56</td>\n",
              "    </tr>\n",
              "    <tr>\n",
              "      <th>1</th>\n",
              "      <td>1000</td>\n",
              "      <td>Baseline - Bernoulli NB (TF-IDF)</td>\n",
              "      <td>0.49</td>\n",
              "    </tr>\n",
              "    <tr>\n",
              "      <th>2</th>\n",
              "      <td>1000</td>\n",
              "      <td>Baseline - Bernoulli NB (N-gram)</td>\n",
              "      <td>0.45</td>\n",
              "    </tr>\n",
              "    <tr>\n",
              "      <th>3</th>\n",
              "      <td>1000</td>\n",
              "      <td>Multinomial NB (Frequency)</td>\n",
              "      <td>0.57</td>\n",
              "    </tr>\n",
              "  </tbody>\n",
              "</table>\n",
              "</div>"
            ],
            "text/plain": [
              "   Number of Training Samples                                Model  Accuracy\n",
              "0                        1000  Baseline - Bernoulli NB (Frequency)      0.56\n",
              "1                        1000     Baseline - Bernoulli NB (TF-IDF)      0.49\n",
              "2                        1000     Baseline - Bernoulli NB (N-gram)      0.45\n",
              "3                        1000           Multinomial NB (Frequency)      0.57"
            ]
          },
          "metadata": {
            "tags": []
          },
          "execution_count": 86
        }
      ]
    },
    {
      "cell_type": "code",
      "metadata": {
        "colab": {
          "base_uri": "https://localhost:8080/"
        },
        "id": "MZhZSAmENqQU",
        "outputId": "2c5a3333-e513-4946-abf6-c5fc71eaddc8"
      },
      "source": [
        "models = ['Baseline - Bernoulli NB (Frequency)','Multinomial NB (Frequency)','Logistic Regression (Frequency)','SVM (Linear) (Frequency)','Random Forest (Frequency)', 'Random Forest (Doc2Vec)', 'Random Forest (Glove)']\n",
        "models"
      ],
      "execution_count": null,
      "outputs": [
        {
          "output_type": "execute_result",
          "data": {
            "text/plain": [
              "['Baseline - Bernoulli NB (Frequency)',\n",
              " 'Multinomial NB (Frequency)',\n",
              " 'Logistic Regression (Frequency)',\n",
              " 'SVM (Linear) (Frequency)',\n",
              " 'Random Forest (Frequency)',\n",
              " 'Random Forest (Doc2Vec)',\n",
              " 'Random Forest (Glove)']"
            ]
          },
          "metadata": {
            "tags": []
          },
          "execution_count": 114
        }
      ]
    },
    {
      "cell_type": "code",
      "metadata": {
        "colab": {
          "base_uri": "https://localhost:8080/",
          "height": 552
        },
        "id": "VUAPNxYZK8As",
        "outputId": "cd689fd5-c7b9-47a6-a83f-ff8441c264c9"
      },
      "source": [
        "plt.figure(figsize=(24, 8))\n",
        "fig = sns.pointplot(x='Number of Training Samples', y='Accuracy', hue='Model', \n",
        "                    data=plotdf[plotdf.Model.map(lambda x: x in models)])\n",
        "sns.set_context(\"notebook\", font_scale=1.5)\n",
        "fig.set(ylabel=\"accuracy\")\n",
        "fig.set(xlabel=\"Training examples\")\n",
        "fig.set(title=\"Comparison\")\n",
        "fig.set(ylabel=\"Accuracy\")"
      ],
      "execution_count": null,
      "outputs": [
        {
          "output_type": "execute_result",
          "data": {
            "text/plain": [
              "[Text(0, 0.5, 'Accuracy')]"
            ]
          },
          "metadata": {
            "tags": []
          },
          "execution_count": 117
        },
        {
          "output_type": "display_data",
          "data": {
            "image/png": "[encoded data removed]",
            "text/plain": [
              "<Figure size 1728x576 with 1 Axes>"
            ]
          },
          "metadata": {
            "tags": [],
            "needs_background": "light"
          }
        }
      ]
    }
  ]
}